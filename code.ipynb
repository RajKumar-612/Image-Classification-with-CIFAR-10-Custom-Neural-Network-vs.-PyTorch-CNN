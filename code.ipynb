{
  "cells": [
    {
      "cell_type": "markdown",
      "metadata": {
        "id": "MTuhoMYYZDT3"
      },
      "source": [
        "**Team Members:**\n",
        "1. Raj Kumar Mannam - 1002126524\n",
        "2. Manisha Varma Bharatha - 1002034501\n",
        "3. Balaji Bonagiri - 1002069262"
      ]
    },
    {
      "cell_type": "markdown",
      "metadata": {
        "id": "iNZ39ZQRCSmp"
      },
      "source": [
        "# Part A: Fully Connected Network from scratch"
      ]
    },
    {
      "cell_type": "code",
      "execution_count": 1,
      "metadata": {
        "colab": {
          "base_uri": "https://localhost:8080/"
        },
        "id": "vWsJPYl3B3Ww",
        "outputId": "7f319363-d1b7-45f1-a2df-b39eb1f7b687"
      },
      "outputs": [
        {
          "output_type": "stream",
          "name": "stdout",
          "text": [
            "Downloading https://www.cs.toronto.edu/~kriz/cifar-10-python.tar.gz to ./data/cifar-10-python.tar.gz\n"
          ]
        },
        {
          "output_type": "stream",
          "name": "stderr",
          "text": [
            "100%|██████████| 170498071/170498071 [00:03<00:00, 44757018.01it/s]\n"
          ]
        },
        {
          "output_type": "stream",
          "name": "stdout",
          "text": [
            "Extracting ./data/cifar-10-python.tar.gz to ./data\n",
            "Files already downloaded and verified\n",
            "Training Images Shape: (45000, 3072)\n",
            "Validation Images Shape: (5000, 3072)\n",
            "Test Images Shape: (10000, 3072)\n"
          ]
        }
      ],
      "source": [
        "# Import necessary libraries\n",
        "import numpy as np\n",
        "import torch\n",
        "import torchvision\n",
        "\n",
        "# Loading and Normalizing the CIFAR10 dataset\n",
        "transform = torchvision.transforms.Compose([\n",
        "    torchvision.transforms.ToTensor(),\n",
        "    torchvision.transforms.Normalize((0.5, 0.5, 0.5), (0.5, 0.5, 0.5))\n",
        "])\n",
        "\n",
        "trainset = torchvision.datasets.CIFAR10(root='./data', train=True, download=True, transform=transform)\n",
        "testset = torchvision.datasets.CIFAR10(root='./data', train=False, download=True, transform=transform)\n",
        "\n",
        "# Convert the images to flattened numpy arrays\n",
        "train_images = np.array([np.array(img[0].numpy()).flatten() for img in trainset])\n",
        "train_labels = np.array([img[1] for img in trainset])\n",
        "\n",
        "test_images = np.array([np.array(img[0].numpy()).flatten() for img in testset])\n",
        "test_labels = np.array([img[1] for img in testset])\n",
        "\n",
        "# Shuffle the dataset\n",
        "p = np.random.permutation(len(train_images))\n",
        "train_images, train_labels = train_images[p], train_labels[p]\n",
        "\n",
        "# Split the dataset into training and validation sets\n",
        "val_size = int(0.1 * len(train_images))\n",
        "val_images, val_labels = train_images[:val_size], train_labels[:val_size]\n",
        "train_images, train_labels = train_images[val_size:], train_labels[val_size:]\n",
        "\n",
        "print(\"Training Images Shape:\", train_images.shape)\n",
        "print(\"Validation Images Shape:\", val_images.shape)\n",
        "print(\"Test Images Shape:\", test_images.shape)\n"
      ]
    },
    {
      "cell_type": "code",
      "execution_count": 2,
      "metadata": {
        "id": "zSIYmMlRGTfp"
      },
      "outputs": [],
      "source": [
        "import numpy as np\n",
        "import matplotlib.pyplot as plt\n",
        "\n",
        "class NeuralNetwork:\n",
        "    def __init__(self, layer_dimensions):\n",
        "        self.parameters = {}\n",
        "        self.L = len(layer_dimensions)\n",
        "        self.v = {}\n",
        "        self.s = {}\n",
        "        for l in range(1, self.L):\n",
        "            self.parameters[\"W\" + str(l)] = np.random.randn(layer_dimensions[l], layer_dimensions[l-1]) * np.sqrt(2. / layer_dimensions[l-1])  # He initialization\n",
        "            self.parameters[\"b\" + str(l)] = np.zeros((layer_dimensions[l], 1))\n",
        "            self.v[\"dW\" + str(l)] = np.zeros((layer_dimensions[l], layer_dimensions[l-1]))\n",
        "            self.v[\"db\" + str(l)] = np.zeros((layer_dimensions[l], 1))\n",
        "            self.s[\"dW\" + str(l)] = np.zeros((layer_dimensions[l], layer_dimensions[l-1]))\n",
        "            self.s[\"db\" + str(l)] = np.zeros((layer_dimensions[l], 1))\n",
        "\n",
        "    def affineForward(self, A, W, b):\n",
        "        Z = np.dot(W, A) + b\n",
        "        cache = (A, W, b)\n",
        "        return Z, cache\n",
        "\n",
        "    def activationForward(self, A):\n",
        "        return np.maximum(0, A), A\n",
        "\n",
        "    def softmax(self, Z):\n",
        "        expZ = np.exp(Z - np.max(Z))  # for numerical stability\n",
        "        return expZ / np.sum(expZ, axis=0, keepdims=True)\n",
        "\n",
        "    def forwardPropagation(self, X):\n",
        "        caches = []\n",
        "        A = X.T\n",
        "        for l in range(1, self.L - 1):  # Keep the last layer for softmax\n",
        "            Z, affine_cache = self.affineForward(A, self.parameters[\"W\"+str(l)], self.parameters[\"b\"+str(l)])\n",
        "            A, activation_cache = self.activationForward(Z)\n",
        "            caches.append((affine_cache, activation_cache))\n",
        "\n",
        "        # Softmax for the last layer\n",
        "        ZL, affine_cache = self.affineForward(A, self.parameters[\"W\" + str(self.L-1)], self.parameters[\"b\" + str(self.L-1)])\n",
        "        AL = self.softmax(ZL)\n",
        "        caches.append((affine_cache, ZL))\n",
        "\n",
        "        return AL, caches\n",
        "\n",
        "    def costFunction(self, AL, y, lambd=0.7):  # Added L2 regularization\n",
        "        m = y.shape[1]\n",
        "        corect_logprobs = -np.log(AL[y.argmax(axis=0), range(m)])\n",
        "        cross_entropy_cost = np.sum(corect_logprobs) / m\n",
        "\n",
        "        L2_regularization_cost = (lambd / (2 * m)) * sum([np.sum(np.square(self.parameters[\"W\" + str(l)])) for l in range(1, self.L)])\n",
        "\n",
        "        return cross_entropy_cost + L2_regularization_cost\n",
        "\n",
        "\n",
        "\n",
        "    def affineBackward(self, dA_prev, cache):\n",
        "        A_prev, W, b = cache\n",
        "        m = A_prev.shape[1]\n",
        "        dW = np.dot(dA_prev, A_prev.T) / m\n",
        "        db = np.sum(dA_prev, axis=1, keepdims=True) / m\n",
        "        dA = np.dot(W.T, dA_prev)\n",
        "        return dA, dW, db\n",
        "\n",
        "    def activationBackward(self, dA, cache):\n",
        "        Z = cache\n",
        "        dZ = np.array(dA, copy=True)\n",
        "        dZ[Z <= 0] = 0\n",
        "        return dZ\n",
        "\n",
        "    def backPropagation(self, dAL, Y, cache, lambd=0.7):\n",
        "        gradients = {}\n",
        "        m = Y.shape[1]\n",
        "\n",
        "        current_cache = cache[-1]\n",
        "        affine_cache, ZL = current_cache\n",
        "\n",
        "        # Softmax gradient\n",
        "        dZL = dAL - Y\n",
        "\n",
        "        dA_prev, dW, db = self.affineBackward(dZL, affine_cache)\n",
        "        gradients[\"dW\" + str(self.L-1)] = dW + (lambd / m) * self.parameters[\"W\" + str(self.L-1)]\n",
        "        gradients[\"db\" + str(self.L-1)] = db\n",
        "\n",
        "        dA = dA_prev\n",
        "\n",
        "        for l in reversed(range(1, self.L-1)):\n",
        "            current_cache = cache[l-1]\n",
        "            affine_cache, activation_cache = current_cache\n",
        "            dZ = self.activationBackward(dA, activation_cache)\n",
        "            dA, dW, db = self.affineBackward(dZ, affine_cache)\n",
        "            gradients[\"dW\" + str(l)] = dW + (lambd / m) * self.parameters[\"W\" + str(l)]\n",
        "            gradients[\"db\" + str(l)] = db\n",
        "        return gradients\n",
        "\n",
        "\n",
        "    def updateParameters(self, gradients, alpha, t, beta1=0.9, beta2=0.999, epsilon=1e-8):\n",
        "        \"\"\" Update the parameters using Adam optimization algorithm \"\"\"\n",
        "        for l in range(1, self.L):\n",
        "            self.v[\"dW\" + str(l)] = beta1 * self.v[\"dW\" + str(l)] + (1 - beta1) * gradients[\"dW\" + str(l)]\n",
        "            self.v[\"db\" + str(l)] = beta1 * self.v[\"db\" + str(l)] + (1 - beta1) * gradients[\"db\" + str(l)]\n",
        "\n",
        "            v_corr_w = self.v[\"dW\" + str(l)] / (1 - np.power(beta1, t))\n",
        "            v_corr_b = self.v[\"db\" + str(l)] / (1 - np.power(beta1, t))\n",
        "\n",
        "            self.s[\"dW\" + str(l)] = beta2 * self.s[\"dW\" + str(l)] + (1 - beta2) * np.square(gradients[\"dW\" + str(l)])\n",
        "            self.s[\"db\" + str(l)] = beta2 * self.s[\"db\" + str(l)] + (1 - beta2) * np.square(gradients[\"db\" + str(l)])\n",
        "\n",
        "            s_corr_w = self.s[\"dW\" + str(l)] / (1 - np.power(beta2, t))\n",
        "            s_corr_b = self.s[\"db\" + str(l)] / (1 - np.power(beta2, t))\n",
        "\n",
        "            self.parameters[\"W\" + str(l)] -= alpha * v_corr_w / (np.sqrt(s_corr_w) + epsilon)\n",
        "            self.parameters[\"b\" + str(l)] -= alpha * v_corr_b / (np.sqrt(s_corr_b) + epsilon)\n",
        "\n",
        "    def train(self, X_train, X_val, y_train, y_val, iters, alpha, batch_size):\n",
        "        m = X_train.shape[0]\n",
        "        costs = []\n",
        "        t = 0  # for Adam optimization\n",
        "\n",
        "        for i in range(0, iters):\n",
        "            permutation = np.random.permutation(m)\n",
        "            X_shuffled = X_train[permutation]\n",
        "            y_shuffled = y_train[permutation]\n",
        "\n",
        "            for j in range(0, m, batch_size):\n",
        "                t += 1  # Increment Adam iteration\n",
        "                X_mini_batch = X_shuffled[j:j+batch_size]\n",
        "                y_mini_batch = y_shuffled[j:j+batch_size]\n",
        "\n",
        "                AL, caches = self.forwardPropagation(X_mini_batch)\n",
        "                gradients = self.backPropagation(AL, y_mini_batch.T, caches)\n",
        "                self.updateParameters(gradients, alpha, t)\n",
        "\n",
        "            if i % 5 == 0:\n",
        "                AL, _ = self.forwardPropagation(X_train)\n",
        "                cost = self.costFunction(AL, y_train.T)\n",
        "                costs.append(cost)\n",
        "                AL_train, _ = self.forwardPropagation(X_train)\n",
        "                predictions_train = np.argmax(AL_train, axis=0)\n",
        "                labels_train = np.argmax(y_train, axis=1)\n",
        "                accuracy_train = np.mean(predictions_train == labels_train) * 100\n",
        "                AL_val, _ = self.forwardPropagation(X_val)\n",
        "                predictions_val = np.argmax(AL_val, axis=0)\n",
        "                labels_val = np.argmax(y_val, axis=1)\n",
        "                accuracy_val = np.mean(predictions_val == labels_val) * 100\n",
        "                print(f'Iteration {i} | Cost: {cost:.4f} | Training Accuracy: {accuracy_train:.2f}% | Validation Accuracy: {accuracy_val:.2f}%')\n",
        "\n",
        "        plt.plot(costs)\n",
        "        plt.xlabel('Iterations (per hundreds)')\n",
        "        plt.ylabel('Cost')\n",
        "        plt.title(f'Learning Rate: {alpha}')\n",
        "        plt.show()\n",
        "\n",
        "    def predict(self, X_new):\n",
        "        AL, _ = self.forwardPropagation(X_new)\n",
        "        predictions = np.argmax(AL, axis=0)\n",
        "        return predictions\n",
        "\n"
      ]
    },
    {
      "cell_type": "code",
      "execution_count": 4,
      "metadata": {
        "colab": {
          "base_uri": "https://localhost:8080/",
          "height": 646
        },
        "id": "_j_WOzNQEtXl",
        "outputId": "4c307281-29bd-4ee0-80d9-d2ecb67c2a3a"
      },
      "outputs": [
        {
          "output_type": "stream",
          "name": "stdout",
          "text": [
            "Iteration 0 | Cost: 1.5390 | Training Accuracy: 46.65% | Validation Accuracy: 44.06%\n",
            "Iteration 5 | Cost: 1.3274 | Training Accuracy: 53.76% | Validation Accuracy: 47.34%\n",
            "Iteration 10 | Cost: 1.2460 | Training Accuracy: 56.82% | Validation Accuracy: 49.68%\n",
            "Iteration 15 | Cost: 1.2275 | Training Accuracy: 57.04% | Validation Accuracy: 51.30%\n",
            "Iteration 20 | Cost: 1.1997 | Training Accuracy: 58.01% | Validation Accuracy: 50.36%\n",
            "Iteration 25 | Cost: 1.1938 | Training Accuracy: 58.27% | Validation Accuracy: 50.26%\n",
            "Iteration 30 | Cost: 1.1717 | Training Accuracy: 59.15% | Validation Accuracy: 51.56%\n",
            "Iteration 35 | Cost: 1.1588 | Training Accuracy: 59.90% | Validation Accuracy: 51.68%\n",
            "Iteration 40 | Cost: 1.1432 | Training Accuracy: 60.50% | Validation Accuracy: 51.68%\n",
            "Iteration 45 | Cost: 1.1439 | Training Accuracy: 60.32% | Validation Accuracy: 51.60%\n"
          ]
        },
        {
          "output_type": "display_data",
          "data": {
            "text/plain": [
              "<Figure size 640x480 with 1 Axes>"
            ],
            "image/png": "[encoded data removed]"
          },
          "metadata": {}
        }
      ],
      "source": [
        "# Convert integer labels to one-hot encoded labels\n",
        "def one_hot_encode(y, num_classes):\n",
        "    return np.eye(num_classes)[y]\n",
        "\n",
        "# Preprocess the CIFAR-10 dataset\n",
        "num_classes = 10\n",
        "y_train_one_hot = one_hot_encode(train_labels, num_classes)\n",
        "y_val_one_hot = one_hot_encode(val_labels, num_classes)\n",
        "y_test_one_hot = one_hot_encode(test_labels, num_classes)\n",
        "\n",
        "# Initialize the neural network\n",
        "layer_dimensions = [3072, 64, 10]  # e.g., for CIFAR10 where input is 32x32x3=3072, and output is 10 classes\n",
        "nn = NeuralNetwork(layer_dimensions)\n",
        "\n",
        "# Train the neural network\n",
        "alpha = 0.001\n",
        "batch_size = 256\n",
        "iters = 50\n",
        "nn.train(train_images, val_images, y_train_one_hot, y_val_one_hot, iters, alpha, batch_size)\n"
      ]
    },
    {
      "cell_type": "code",
      "execution_count": 5,
      "metadata": {
        "colab": {
          "base_uri": "https://localhost:8080/",
          "height": 1000
        },
        "id": "SvaJzcvUD5Us",
        "outputId": "0e561c45-fc06-4d19-e3d9-d1567317ae45"
      },
      "outputs": [
        {
          "output_type": "display_data",
          "data": {
            "text/plain": [
              "<Figure size 640x480 with 1 Axes>"
            ],
            "image/png": "[encoded data removed]"
          },
          "metadata": {}
        },
        {
          "output_type": "stream",
          "name": "stdout",
          "text": [
            "Predicted Label: cat\n"
          ]
        },
        {
          "output_type": "display_data",
          "data": {
            "text/plain": [
              "<Figure size 640x480 with 1 Axes>"
            ],
            "image/png": "[encoded data removed]"
          },
          "metadata": {}
        },
        {
          "output_type": "stream",
          "name": "stdout",
          "text": [
            "Predicted Label: truck\n"
          ]
        },
        {
          "output_type": "display_data",
          "data": {
            "text/plain": [
              "<Figure size 640x480 with 1 Axes>"
            ],
            "image/png": "[encoded data removed]"
          },
          "metadata": {}
        },
        {
          "output_type": "stream",
          "name": "stdout",
          "text": [
            "Predicted Label: airplane\n"
          ]
        },
        {
          "output_type": "display_data",
          "data": {
            "text/plain": [
              "<Figure size 640x480 with 1 Axes>"
            ],
            "image/png": "[encoded data removed]"
          },
          "metadata": {}
        },
        {
          "output_type": "stream",
          "name": "stdout",
          "text": [
            "Predicted Label: airplane\n"
          ]
        },
        {
          "output_type": "display_data",
          "data": {
            "text/plain": [
              "<Figure size 640x480 with 1 Axes>"
            ],
            "image/png": "[encoded data removed]"
          },
          "metadata": {}
        },
        {
          "output_type": "stream",
          "name": "stdout",
          "text": [
            "Predicted Label: frog\n"
          ]
        }
      ],
      "source": [
        "import numpy as np\n",
        "import matplotlib.pyplot as plt\n",
        "\n",
        "CIFAR10_LABELS_LIST = [\n",
        "    'ship',\n",
        "    'automobile',\n",
        "    'bird',\n",
        "    'cat',\n",
        "    'frog',\n",
        "    'dog',\n",
        "    'deer',\n",
        "    'horse',\n",
        "    'airplane',\n",
        "    'truck'\n",
        "]\n",
        "\n",
        "def index_to_label(index):\n",
        "    return CIFAR10_LABELS_LIST[index]\n",
        "\n",
        "\n",
        "def imshow(img):\n",
        "    img = img / 2 + 0.5  # unnormalize\n",
        "    plt.imshow(np.transpose(img, (1, 2, 0)))\n",
        "    plt.show()\n",
        "\n",
        "def display_images_predictions(testset, model, num_images=5):\n",
        "    for i in range(num_images):\n",
        "        image, _ = testset[i]\n",
        "        imshow(image.numpy())\n",
        "\n",
        "        # Reshape and expand dimensions to form a batch\n",
        "        image_batch = np.expand_dims(image.numpy().reshape(-1), axis=0)\n",
        "\n",
        "        output = model.predict(image_batch)\n",
        "        predicted_label = index_to_label(output[0])\n",
        "        print(f\"Predicted Label: {predicted_label}\")\n",
        "\n",
        "\n",
        "# Assume `nn_model` is your trained model and `testset` is your test dataset.\n",
        "display_images_predictions(testset, nn, num_images=5)\n"
      ]
    },
    {
      "cell_type": "markdown",
      "metadata": {
        "id": "XPYK15nIBZHl"
      },
      "source": [
        "# Part 2: CNN using PyTorch"
      ]
    },
    {
      "cell_type": "code",
      "execution_count": 6,
      "metadata": {
        "colab": {
          "base_uri": "https://localhost:8080/"
        },
        "id": "nzUZjlCO__uz",
        "outputId": "be3b6a39-d84c-4bcd-ea7b-3a4316630c55"
      },
      "outputs": [
        {
          "output_type": "stream",
          "name": "stdout",
          "text": [
            "Files already downloaded and verified\n"
          ]
        }
      ],
      "source": [
        "# 1.6 Import necessary libraries\n",
        "import torch\n",
        "import torch.nn as nn\n",
        "import torch.nn.functional as F\n",
        "import torch.optim as optim\n",
        "from torchvision import datasets, transforms\n",
        "\n",
        "# Define the device\n",
        "device = torch.device(\"cuda:0\" if torch.cuda.is_available() else \"cpu\")\n",
        "\n",
        "# Loading CIFAR10 dataset\n",
        "transform = transforms.Compose([transforms.ToTensor(),\n",
        "                                transforms.Normalize((0.5, 0.5, 0.5), (0.5, 0.5, 0.5))])\n",
        "\n",
        "train_dataset = datasets.CIFAR10(root='./data', train=True, download=True, transform=transform)\n",
        "train_size = int(0.9 * len(train_dataset))\n",
        "val_size = len(train_dataset) - train_size\n",
        "train_dataset, val_dataset = torch.utils.data.random_split(train_dataset, [train_size, val_size])\n",
        "\n",
        "train_loader = torch.utils.data.DataLoader(train_dataset, batch_size=32, shuffle=True)\n",
        "val_loader = torch.utils.data.DataLoader(val_dataset, batch_size=32, shuffle=False)"
      ]
    },
    {
      "cell_type": "code",
      "execution_count": 7,
      "metadata": {
        "id": "Fpl5G_vl-l5n",
        "colab": {
          "base_uri": "https://localhost:8080/"
        },
        "outputId": "3da99130-0005-46e5-effa-6ce5a00f4808"
      },
      "outputs": [
        {
          "output_type": "stream",
          "name": "stdout",
          "text": [
            "Epoch 1, Loss: 1.4505625278202456\n",
            "Epoch 2, Loss: 1.1088512489028068\n",
            "Epoch 3, Loss: 0.9715462690901061\n",
            "Epoch 4, Loss: 0.8791640453204757\n",
            "Epoch 5, Loss: 0.8038246474032209\n",
            "Epoch 6, Loss: 0.7378831523779698\n",
            "Epoch 7, Loss: 0.676506668604598\n",
            "Epoch 8, Loss: 0.6202920242434456\n",
            "Epoch 9, Loss: 0.5706097674056326\n",
            "Epoch 10, Loss: 0.5215764295127092\n",
            "Epoch 11, Loss: 0.47053066750706385\n",
            "Epoch 12, Loss: 0.42722529491148864\n",
            "Epoch 13, Loss: 0.38304346835858955\n",
            "Epoch 14, Loss: 0.3467653592798247\n",
            "Epoch 15, Loss: 0.30598740202891717\n",
            "Epoch 16, Loss: 0.2736318622687309\n",
            "Epoch 17, Loss: 0.2421888051701507\n",
            "Epoch 18, Loss: 0.21500269857625123\n",
            "Epoch 19, Loss: 0.19203193531144613\n",
            "Epoch 20, Loss: 0.17223176751193123\n",
            "Training Complete!\n",
            "Validation Accuracy: 73.42%\n"
          ]
        }
      ],
      "source": [
        "# 1.7 Define the CNN architecture\n",
        "class SimpleCNN(nn.Module):\n",
        "    def __init__(self):\n",
        "        super(SimpleCNN, self).__init__()\n",
        "        self.conv1 = nn.Conv2d(3, 16, 3, padding=1)\n",
        "        self.bn1 = nn.BatchNorm2d(16)\n",
        "        self.conv2 = nn.Conv2d(16, 32, 3, padding=1)\n",
        "        self.bn2 = nn.BatchNorm2d(32)\n",
        "        self.pool = nn.MaxPool2d(2, 2)\n",
        "        self.fc1 = nn.Linear(32 * 8 * 8, 512)\n",
        "        self.fc2 = nn.Linear(512, 10)\n",
        "        self.dropout = nn.Dropout(0.2)\n",
        "\n",
        "    def forward(self, x):\n",
        "        x = self.pool(F.relu(self.bn1(self.conv1(x))))\n",
        "        x = self.pool(F.relu(self.bn2(self.conv2(x))))\n",
        "        x = x.view(-1, 32 * 8 * 8)\n",
        "        x = self.dropout(F.relu(self.fc1(x)))\n",
        "        x = self.fc2(x)\n",
        "        return x\n",
        "\n",
        "# Instantiate the model and move it to GPU\n",
        "model = SimpleCNN().to(device)\n",
        "criterion = nn.CrossEntropyLoss()\n",
        "optimizer = optim.SGD(model.parameters(), lr=0.01)\n",
        "\n",
        "# Training\n",
        "num_epochs = 20\n",
        "for epoch in range(num_epochs):\n",
        "    model.train()\n",
        "    total_loss = 0.0\n",
        "    for data, target in train_loader:\n",
        "        data, target = data.to(device), target.to(device)\n",
        "\n",
        "        optimizer.zero_grad()\n",
        "        output = model(data)\n",
        "        loss = criterion(output, target)\n",
        "        loss.backward()\n",
        "        optimizer.step()\n",
        "        total_loss += loss.item()\n",
        "\n",
        "    print(f\"Epoch {epoch+1}, Loss: {total_loss/len(train_loader)}\")\n",
        "\n",
        "print(\"Training Complete!\")\n",
        "\n",
        "# 1.8 Validation\n",
        "model.eval()\n",
        "correct = 0\n",
        "total = 0\n",
        "with torch.no_grad():\n",
        "    for data, target in val_loader:\n",
        "        data, target = data.to(device), target.to(device)\n",
        "\n",
        "        outputs = model(data)\n",
        "        _, predicted = torch.max(outputs, 1)\n",
        "        total += target.size(0)\n",
        "        correct += (predicted == target).sum().item()\n",
        "\n",
        "print(f\"Validation Accuracy: {100 * correct / total}%\")\n"
      ]
    },
    {
      "cell_type": "markdown",
      "metadata": {
        "id": "D0rFX0BPAyOY"
      },
      "source": [
        "Data Augmentation:\n",
        "We will add random horizontal flips and random crops to the training data to augment the dataset.\n",
        "\n",
        "\n",
        "Modify Architecture:\n",
        "Add an extra convolutional layer, change kernel sizes, and add an extra fully connected layer."
      ]
    },
    {
      "cell_type": "code",
      "execution_count": 8,
      "metadata": {
        "id": "7uXqpe5v_2ld",
        "colab": {
          "base_uri": "https://localhost:8080/"
        },
        "outputId": "7817fe7f-b31a-4d2d-880a-5efde7a56a29"
      },
      "outputs": [
        {
          "output_type": "stream",
          "name": "stdout",
          "text": [
            "Epoch 1, Loss: 1.5645852246941958\n",
            "Epoch 2, Loss: 1.1467011579403068\n",
            "Epoch 3, Loss: 0.9784451680312194\n",
            "Epoch 4, Loss: 0.868001042102022\n",
            "Epoch 5, Loss: 0.7811722798642319\n",
            "Epoch 6, Loss: 0.7193610049259942\n",
            "Epoch 7, Loss: 0.6610402180611367\n",
            "Epoch 8, Loss: 0.613444112426606\n",
            "Epoch 9, Loss: 0.5680198795039686\n",
            "Epoch 10, Loss: 0.5237981103990802\n",
            "Epoch 11, Loss: 0.4839376960090059\n",
            "Epoch 12, Loss: 0.44906164939808524\n",
            "Epoch 13, Loss: 0.41461955388980126\n",
            "Epoch 14, Loss: 0.38828616775969454\n",
            "Epoch 15, Loss: 0.35041788765828324\n",
            "Epoch 16, Loss: 0.3241129125618689\n",
            "Epoch 17, Loss: 0.2968616408071538\n",
            "Epoch 18, Loss: 0.2678908757076419\n",
            "Epoch 19, Loss: 0.24952730656400926\n",
            "Epoch 20, Loss: 0.22408577917486577\n",
            "Training Complete!\n",
            "Validation Accuracy: 77.44%\n"
          ]
        }
      ],
      "source": [
        "# 1.7 Modify the CNN architecture\n",
        "class ModifiedCNN(nn.Module):\n",
        "    def __init__(self):\n",
        "        super(ModifiedCNN, self).__init__()\n",
        "        self.conv1 = nn.Conv2d(3, 32, 3, padding=1)\n",
        "        self.bn1 = nn.BatchNorm2d(32)\n",
        "        self.conv2 = nn.Conv2d(32, 64, 3, padding=1)\n",
        "        self.bn2 = nn.BatchNorm2d(64)\n",
        "        self.conv3 = nn.Conv2d(64, 128, 3, padding=1)\n",
        "        self.bn3 = nn.BatchNorm2d(128)\n",
        "        self.pool = nn.MaxPool2d(2, 2)\n",
        "        self.fc1 = nn.Linear(128 * 4 * 4, 512)\n",
        "        self.fc2 = nn.Linear(512, 256)\n",
        "        self.fc3 = nn.Linear(256, 10)\n",
        "        self.dropout = nn.Dropout(0.3)\n",
        "\n",
        "    def forward(self, x):\n",
        "        x = self.pool(F.relu(self.bn1(self.conv1(x))))\n",
        "        x = self.pool(F.relu(self.bn2(self.conv2(x))))\n",
        "        x = self.pool(F.relu(self.bn3(self.conv3(x))))\n",
        "        x = x.view(-1, 128 * 4 * 4)\n",
        "        x = self.dropout(F.relu(self.fc1(x)))\n",
        "        x = self.dropout(F.relu(self.fc2(x)))\n",
        "        x = self.fc3(x)\n",
        "        return x\n",
        "\n",
        "# Instantiate the model and move it to GPU\n",
        "model = ModifiedCNN().to(device)\n",
        "criterion = nn.CrossEntropyLoss()\n",
        "optimizer = optim.SGD(model.parameters(), lr=0.01)\n",
        "\n",
        "# Training\n",
        "num_epochs = 20\n",
        "for epoch in range(num_epochs):\n",
        "    model.train()\n",
        "    total_loss = 0.0\n",
        "    for data, target in train_loader:\n",
        "        data, target = data.to(device), target.to(device)\n",
        "\n",
        "        optimizer.zero_grad()\n",
        "        output = model(data)\n",
        "        loss = criterion(output, target)\n",
        "        loss.backward()\n",
        "        optimizer.step()\n",
        "        total_loss += loss.item()\n",
        "\n",
        "    print(f\"Epoch {epoch+1}, Loss: {total_loss/len(train_loader)}\")\n",
        "\n",
        "print(\"Training Complete!\")\n",
        "\n",
        "# 1.8 Validation\n",
        "model.eval()\n",
        "correct = 0\n",
        "total = 0\n",
        "with torch.no_grad():\n",
        "    for data, target in val_loader:\n",
        "        data, target = data.to(device), target.to(device)\n",
        "\n",
        "        outputs = model(data)\n",
        "        _, predicted = torch.max(outputs, 1)\n",
        "        total += target.size(0)\n",
        "        correct += (predicted == target).sum().item()\n",
        "\n",
        "print(f\"Validation Accuracy: {100 * correct / total}%\")"
      ]
    }
  ],
  "metadata": {
    "accelerator": "GPU",
    "colab": {
      "gpuType": "T4",
      "provenance": []
    },
    "kernelspec": {
      "display_name": "Python 3 (ipykernel)",
      "language": "python",
      "name": "python3"
    },
    "language_info": {
      "codemirror_mode": {
        "name": "ipython",
        "version": 3
      },
      "file_extension": ".py",
      "mimetype": "text/x-python",
      "name": "python",
      "nbconvert_exporter": "python",
      "pygments_lexer": "ipython3",
      "version": "3.11.5"
    }
  },
  "nbformat": 4,
  "nbformat_minor": 0
}